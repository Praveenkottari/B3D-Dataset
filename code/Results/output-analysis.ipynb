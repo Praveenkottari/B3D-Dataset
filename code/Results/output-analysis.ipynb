{
 "cells": [
  {
   "cell_type": "markdown",
   "id": "2b397c1c-9840-4bdd-bce0-bdbee9cf6aa5",
   "metadata": {},
   "source": [
    "## List of restuls\n",
    "### Original dataset\n",
    "1. A table with comparision of all metrics (pre, recall, f1) for all models on the orignal dataset\n",
    "2. A figure with comparision of all metrics (pre, recall, f1) for all models on the orignal dataset\n",
    "3. A confusion matix of the best model\n",
    "4. The classificaiton report of the best model\n",
    "\n",
    "### Augmented dataset\n",
    "1. A table with comparision of all metrics (pre, recall, f1) for all models on the Augmented dataset\n",
    "2. A figure with comparision of all metrics (pre, recall, f1) for all models on the Augmented dataset\n",
    "3. A confusion matix of the best model\n",
    "4. The classificaiton report of the best model\n",
    "\n",
    "### optional result1\n",
    "1. A figure of feature maps of best models (ViT)\n",
    "2. A figure of explainabilyt of the best model (ViT)\n",
    "\n",
    "### Reproducible code\n",
    "1. A repo with all notebooks (with cleaned up code) >>> later\n",
    "   "
   ]
  },
  {
   "cell_type": "code",
   "execution_count": 95,
   "id": "c82e34ea-3ec0-46eb-bcc6-da89acee6725",
   "metadata": {},
   "outputs": [],
   "source": [
    "import glob\n",
    "import os\n",
    "import pandas as pd\n",
    "import matplotlib\n",
    "import matplotlib.pyplot as plt\n",
    "\n",
    "import matplotlib.patches as mpatches\n",
    "\n",
    "from sklearn.metrics import classification_report,confusion_matrix"
   ]
  },
  {
   "cell_type": "code",
   "execution_count": 96,
   "id": "48adf867-0453-4bd4-a727-1d7598d44e31",
   "metadata": {},
   "outputs": [],
   "source": [
    "files_orig = glob.glob('all_model_original/*.csv')\n",
    "files_aug =  glob.glob('all_model_augmented/*.csv')"
   ]
  },
  {
   "cell_type": "markdown",
   "id": "c5e6c9ee-45d0-4ccc-80c4-fe701de1cbe5",
   "metadata": {},
   "source": [
    "## confusion matrix for original and augmented\n"
   ]
  },
  {
   "cell_type": "code",
   "execution_count": 42,
   "id": "5b4c38be-5b59-4093-a52a-b976d74bcb53",
   "metadata": {},
   "outputs": [],
   "source": [
    "vit_orig = \"all_model_original/org-ViTpatch16-result.csv\"\n",
    "vit_aug = \"all_model_augmented/aug-ViTpatch16-result.csv\""
   ]
  },
  {
   "cell_type": "code",
   "execution_count": 44,
   "id": "42f2576c-57fc-438f-813a-4e41e72f13a2",
   "metadata": {},
   "outputs": [],
   "source": [
    "class_names = ['Algae',\n",
    " 'Major crack',\n",
    " 'Minor crack',\n",
    " 'Peeling',\n",
    " 'Normal',\n",
    " 'Spalling',\n",
    " 'Stain']"
   ]
  },
  {
   "cell_type": "code",
   "execution_count": 46,
   "id": "2056fd60-bca9-4e68-9df8-ecf83c9784a6",
   "metadata": {},
   "outputs": [
    {
     "ename": "TypeError",
     "evalue": "got an unexpected keyword argument 'target_names'",
     "output_type": "error",
     "traceback": [
      "\u001b[0;31m---------------------------------------------------------------------------\u001b[0m",
      "\u001b[0;31mTypeError\u001b[0m                                 Traceback (most recent call last)",
      "Cell \u001b[0;32mIn[46], line 4\u001b[0m\n\u001b[1;32m      2\u001b[0m df_aug \u001b[38;5;241m=\u001b[39m pd\u001b[38;5;241m.\u001b[39mread_csv(vit_aug)\n\u001b[1;32m      3\u001b[0m conf_mat_original \u001b[38;5;241m=\u001b[39m confusion_matrix(df_orig\u001b[38;5;241m.\u001b[39mactual, df_orig\u001b[38;5;241m.\u001b[39mpredicted)\n\u001b[0;32m----> 4\u001b[0m conf_mat_aug \u001b[38;5;241m=\u001b[39m \u001b[43mconfusion_matrix\u001b[49m\u001b[43m(\u001b[49m\u001b[43mdf_aug\u001b[49m\u001b[38;5;241;43m.\u001b[39;49m\u001b[43mactual\u001b[49m\u001b[43m,\u001b[49m\u001b[43m \u001b[49m\u001b[43mdf_aug\u001b[49m\u001b[38;5;241;43m.\u001b[39;49m\u001b[43mpredicted\u001b[49m\u001b[43m,\u001b[49m\u001b[43m \u001b[49m\u001b[43mtarget_names\u001b[49m\u001b[38;5;241;43m=\u001b[39;49m\u001b[43mclass_names\u001b[49m\u001b[43m)\u001b[49m\n",
      "File \u001b[0;32m~/miniconda3/envs/torch/lib/python3.10/site-packages/sklearn/utils/_param_validation.py:191\u001b[0m, in \u001b[0;36mvalidate_params.<locals>.decorator.<locals>.wrapper\u001b[0;34m(*args, **kwargs)\u001b[0m\n\u001b[1;32m    188\u001b[0m func_sig \u001b[38;5;241m=\u001b[39m signature(func)\n\u001b[1;32m    190\u001b[0m \u001b[38;5;66;03m# Map *args/**kwargs to the function signature\u001b[39;00m\n\u001b[0;32m--> 191\u001b[0m params \u001b[38;5;241m=\u001b[39m \u001b[43mfunc_sig\u001b[49m\u001b[38;5;241;43m.\u001b[39;49m\u001b[43mbind\u001b[49m\u001b[43m(\u001b[49m\u001b[38;5;241;43m*\u001b[39;49m\u001b[43margs\u001b[49m\u001b[43m,\u001b[49m\u001b[43m \u001b[49m\u001b[38;5;241;43m*\u001b[39;49m\u001b[38;5;241;43m*\u001b[39;49m\u001b[43mkwargs\u001b[49m\u001b[43m)\u001b[49m\n\u001b[1;32m    192\u001b[0m params\u001b[38;5;241m.\u001b[39mapply_defaults()\n\u001b[1;32m    194\u001b[0m \u001b[38;5;66;03m# ignore self/cls and positional/keyword markers\u001b[39;00m\n",
      "File \u001b[0;32m~/miniconda3/envs/torch/lib/python3.10/inspect.py:3186\u001b[0m, in \u001b[0;36mSignature.bind\u001b[0;34m(self, *args, **kwargs)\u001b[0m\n\u001b[1;32m   3181\u001b[0m \u001b[38;5;28;01mdef\u001b[39;00m \u001b[38;5;21mbind\u001b[39m(\u001b[38;5;28mself\u001b[39m, \u001b[38;5;241m/\u001b[39m, \u001b[38;5;241m*\u001b[39margs, \u001b[38;5;241m*\u001b[39m\u001b[38;5;241m*\u001b[39mkwargs):\n\u001b[1;32m   3182\u001b[0m \u001b[38;5;250m    \u001b[39m\u001b[38;5;124;03m\"\"\"Get a BoundArguments object, that maps the passed `args`\u001b[39;00m\n\u001b[1;32m   3183\u001b[0m \u001b[38;5;124;03m    and `kwargs` to the function's signature.  Raises `TypeError`\u001b[39;00m\n\u001b[1;32m   3184\u001b[0m \u001b[38;5;124;03m    if the passed arguments can not be bound.\u001b[39;00m\n\u001b[1;32m   3185\u001b[0m \u001b[38;5;124;03m    \"\"\"\u001b[39;00m\n\u001b[0;32m-> 3186\u001b[0m     \u001b[38;5;28;01mreturn\u001b[39;00m \u001b[38;5;28;43mself\u001b[39;49m\u001b[38;5;241;43m.\u001b[39;49m\u001b[43m_bind\u001b[49m\u001b[43m(\u001b[49m\u001b[43margs\u001b[49m\u001b[43m,\u001b[49m\u001b[43m \u001b[49m\u001b[43mkwargs\u001b[49m\u001b[43m)\u001b[49m\n",
      "File \u001b[0;32m~/miniconda3/envs/torch/lib/python3.10/inspect.py:3175\u001b[0m, in \u001b[0;36mSignature._bind\u001b[0;34m(self, args, kwargs, partial)\u001b[0m\n\u001b[1;32m   3173\u001b[0m         arguments[kwargs_param\u001b[38;5;241m.\u001b[39mname] \u001b[38;5;241m=\u001b[39m kwargs\n\u001b[1;32m   3174\u001b[0m     \u001b[38;5;28;01melse\u001b[39;00m:\n\u001b[0;32m-> 3175\u001b[0m         \u001b[38;5;28;01mraise\u001b[39;00m \u001b[38;5;167;01mTypeError\u001b[39;00m(\n\u001b[1;32m   3176\u001b[0m             \u001b[38;5;124m'\u001b[39m\u001b[38;5;124mgot an unexpected keyword argument \u001b[39m\u001b[38;5;132;01m{arg!r}\u001b[39;00m\u001b[38;5;124m'\u001b[39m\u001b[38;5;241m.\u001b[39mformat(\n\u001b[1;32m   3177\u001b[0m                 arg\u001b[38;5;241m=\u001b[39m\u001b[38;5;28mnext\u001b[39m(\u001b[38;5;28miter\u001b[39m(kwargs))))\n\u001b[1;32m   3179\u001b[0m \u001b[38;5;28;01mreturn\u001b[39;00m \u001b[38;5;28mself\u001b[39m\u001b[38;5;241m.\u001b[39m_bound_arguments_cls(\u001b[38;5;28mself\u001b[39m, arguments)\n",
      "\u001b[0;31mTypeError\u001b[0m: got an unexpected keyword argument 'target_names'"
     ]
    }
   ],
   "source": [
    "df_orig = pd.read_csv(vit_orig)\n",
    "df_aug = pd.read_csv(vit_aug)\n",
    "conf_mat_original = confusion_matrix(df_orig.actual, df_orig.predicted)\n",
    "conf_mat_aug = confusion_matrix(df_aug.actual, df_aug.predicted, target_names=class_names)\n"
   ]
  },
  {
   "cell_type": "code",
   "execution_count": 55,
   "id": "e1e1cac3-a53f-46fd-ae49-d2cc00a75d3a",
   "metadata": {},
   "outputs": [
    {
     "data": {
      "text/html": [
       "<div>\n",
       "<style scoped>\n",
       "    .dataframe tbody tr th:only-of-type {\n",
       "        vertical-align: middle;\n",
       "    }\n",
       "\n",
       "    .dataframe tbody tr th {\n",
       "        vertical-align: top;\n",
       "    }\n",
       "\n",
       "    .dataframe thead th {\n",
       "        text-align: right;\n",
       "    }\n",
       "</style>\n",
       "<table border=\"1\" class=\"dataframe\">\n",
       "  <thead>\n",
       "    <tr style=\"text-align: right;\">\n",
       "      <th></th>\n",
       "      <th>Algae</th>\n",
       "      <th>Major crack</th>\n",
       "      <th>Minor crack</th>\n",
       "      <th>Peeling</th>\n",
       "      <th>Normal</th>\n",
       "      <th>Spalling</th>\n",
       "      <th>Stain</th>\n",
       "    </tr>\n",
       "  </thead>\n",
       "  <tbody>\n",
       "    <tr>\n",
       "      <th>Algae</th>\n",
       "      <td>118</td>\n",
       "      <td>3</td>\n",
       "      <td>0</td>\n",
       "      <td>0</td>\n",
       "      <td>0</td>\n",
       "      <td>0</td>\n",
       "      <td>3</td>\n",
       "    </tr>\n",
       "    <tr>\n",
       "      <th>Major crack</th>\n",
       "      <td>0</td>\n",
       "      <td>99</td>\n",
       "      <td>17</td>\n",
       "      <td>0</td>\n",
       "      <td>0</td>\n",
       "      <td>0</td>\n",
       "      <td>0</td>\n",
       "    </tr>\n",
       "    <tr>\n",
       "      <th>Minor crack</th>\n",
       "      <td>0</td>\n",
       "      <td>7</td>\n",
       "      <td>117</td>\n",
       "      <td>0</td>\n",
       "      <td>0</td>\n",
       "      <td>0</td>\n",
       "      <td>0</td>\n",
       "    </tr>\n",
       "    <tr>\n",
       "      <th>Peeling</th>\n",
       "      <td>0</td>\n",
       "      <td>2</td>\n",
       "      <td>2</td>\n",
       "      <td>95</td>\n",
       "      <td>0</td>\n",
       "      <td>2</td>\n",
       "      <td>3</td>\n",
       "    </tr>\n",
       "    <tr>\n",
       "      <th>Normal</th>\n",
       "      <td>0</td>\n",
       "      <td>1</td>\n",
       "      <td>0</td>\n",
       "      <td>0</td>\n",
       "      <td>119</td>\n",
       "      <td>0</td>\n",
       "      <td>0</td>\n",
       "    </tr>\n",
       "    <tr>\n",
       "      <th>Spalling</th>\n",
       "      <td>0</td>\n",
       "      <td>1</td>\n",
       "      <td>1</td>\n",
       "      <td>4</td>\n",
       "      <td>0</td>\n",
       "      <td>91</td>\n",
       "      <td>3</td>\n",
       "    </tr>\n",
       "    <tr>\n",
       "      <th>Stain</th>\n",
       "      <td>1</td>\n",
       "      <td>0</td>\n",
       "      <td>2</td>\n",
       "      <td>0</td>\n",
       "      <td>0</td>\n",
       "      <td>2</td>\n",
       "      <td>99</td>\n",
       "    </tr>\n",
       "  </tbody>\n",
       "</table>\n",
       "</div>"
      ],
      "text/plain": [
       "             Algae  Major crack  Minor crack  Peeling  Normal  Spalling  Stain\n",
       "Algae          118            3            0        0       0         0      3\n",
       "Major crack      0           99           17        0       0         0      0\n",
       "Minor crack      0            7          117        0       0         0      0\n",
       "Peeling          0            2            2       95       0         2      3\n",
       "Normal           0            1            0        0     119         0      0\n",
       "Spalling         0            1            1        4       0        91      3\n",
       "Stain            1            0            2        0       0         2     99"
      ]
     },
     "execution_count": 55,
     "metadata": {},
     "output_type": "execute_result"
    }
   ],
   "source": [
    "cm = pd.DataFrame(conf_mat_original)\n",
    "cm.columns = class_names\n",
    "cm.index = class_names\n",
    "cm"
   ]
  },
  {
   "cell_type": "code",
   "execution_count": 71,
   "id": "ed70a375-ed43-42e8-8ba2-bc52ff76dc07",
   "metadata": {},
   "outputs": [
    {
     "data": {
      "image/png": "[encoded data removed]",
      "text/plain": [
       "<Figure size 600x400 with 2 Axes>"
      ]
     },
     "metadata": {},
     "output_type": "display_data"
    }
   ],
   "source": [
    "plt.rcParams.update({'font.size': 10})\n",
    "plt.rcParams[\"font.family\"] = \"serif\"\n",
    "\n",
    "import seaborn as sns\n",
    "# Plot confusion matrix\n",
    "plt.figure(figsize=(6, 4))\n",
    "sns.heatmap(cm, annot=True, fmt=\"d\", cmap=\"Blues\", xticklabels=class_names, yticklabels=class_names)\n",
    "plt.xticks(rotation=90)\n",
    "plt.ylabel('Actual')\n",
    "plt.xlabel('Predicted')\n",
    "#plt.title('Confusion Matrix')\n",
    "plt.savefig('curat_vt_confusion_matrix.png')\n",
    "plt.savefig(\"vit-cm.pdf\", bbox_inches='tight')\n",
    "plt.show()"
   ]
  },
  {
   "cell_type": "code",
   "execution_count": 41,
   "id": "b7b91680-d6ab-48cb-bb4e-19a8448dccf1",
   "metadata": {},
   "outputs": [
    {
     "data": {
      "text/plain": [
       "array([[399,   1,   0,   0,   0,   0,   0],\n",
       "       [  0, 382,  15,   3,   0,   0,   0],\n",
       "       [  0,   2, 397,   0,   1,   0,   0],\n",
       "       [  0,   2,   0, 397,   0,   1,   0],\n",
       "       [  0,   0,   1,   0, 397,   0,   2],\n",
       "       [  0,   2,   0,   3,   0, 395,   0],\n",
       "       [  0,   1,   0,   0,   0,   0, 399]])"
      ]
     },
     "execution_count": 41,
     "metadata": {},
     "output_type": "execute_result"
    }
   ],
   "source": [
    "conf_mat_aug"
   ]
  },
  {
   "cell_type": "markdown",
   "id": "57b5a24e-0ad5-460b-8d18-490adc34ac2d",
   "metadata": {},
   "source": [
    "## original dataset model results\n"
   ]
  },
  {
   "cell_type": "code",
   "execution_count": 74,
   "id": "b7618ee4-beea-4abc-bd3a-9dc326433dcd",
   "metadata": {},
   "outputs": [
    {
     "data": {
      "text/html": [
       "<div>\n",
       "<style scoped>\n",
       "    .dataframe tbody tr th:only-of-type {\n",
       "        vertical-align: middle;\n",
       "    }\n",
       "\n",
       "    .dataframe tbody tr th {\n",
       "        vertical-align: top;\n",
       "    }\n",
       "\n",
       "    .dataframe thead th {\n",
       "        text-align: right;\n",
       "    }\n",
       "</style>\n",
       "<table border=\"1\" class=\"dataframe\">\n",
       "  <thead>\n",
       "    <tr style=\"text-align: right;\">\n",
       "      <th></th>\n",
       "      <th>precision</th>\n",
       "      <th>recall</th>\n",
       "      <th>f1-score</th>\n",
       "      <th>support</th>\n",
       "      <th>model</th>\n",
       "    </tr>\n",
       "  </thead>\n",
       "  <tbody>\n",
       "    <tr>\n",
       "      <th>0</th>\n",
       "      <td>0.8409</td>\n",
       "      <td>0.8359</td>\n",
       "      <td>0.8363</td>\n",
       "      <td>792.0</td>\n",
       "      <td>VGG16</td>\n",
       "    </tr>\n",
       "    <tr>\n",
       "      <th>0</th>\n",
       "      <td>0.9342</td>\n",
       "      <td>0.9318</td>\n",
       "      <td>0.9323</td>\n",
       "      <td>792.0</td>\n",
       "      <td>ViTpatch16</td>\n",
       "    </tr>\n",
       "    <tr>\n",
       "      <th>0</th>\n",
       "      <td>0.8842</td>\n",
       "      <td>0.8801</td>\n",
       "      <td>0.8803</td>\n",
       "      <td>792.0</td>\n",
       "      <td>AlexNet</td>\n",
       "    </tr>\n",
       "    <tr>\n",
       "      <th>0</th>\n",
       "      <td>0.8320</td>\n",
       "      <td>0.8308</td>\n",
       "      <td>0.8301</td>\n",
       "      <td>792.0</td>\n",
       "      <td>ResNet18</td>\n",
       "    </tr>\n",
       "    <tr>\n",
       "      <th>0</th>\n",
       "      <td>0.8479</td>\n",
       "      <td>0.8422</td>\n",
       "      <td>0.8419</td>\n",
       "      <td>792.0</td>\n",
       "      <td>MobileNetV2</td>\n",
       "    </tr>\n",
       "  </tbody>\n",
       "</table>\n",
       "</div>"
      ],
      "text/plain": [
       "   precision  recall  f1-score  support        model\n",
       "0     0.8409  0.8359    0.8363    792.0        VGG16\n",
       "0     0.9342  0.9318    0.9323    792.0   ViTpatch16\n",
       "0     0.8842  0.8801    0.8803    792.0      AlexNet\n",
       "0     0.8320  0.8308    0.8301    792.0     ResNet18\n",
       "0     0.8479  0.8422    0.8419    792.0  MobileNetV2"
      ]
     },
     "execution_count": 74,
     "metadata": {},
     "output_type": "execute_result"
    }
   ],
   "source": [
    "result_orig = []\n",
    "for f in files_orig:\n",
    "    #print(f)\n",
    "    df = pd.read_csv(f)\n",
    "    res = classification_report(df.actual, df.predicted, output_dict=True)\n",
    "\n",
    "    f1 = res['weighted avg']\n",
    "    res_score = pd.DataFrame([f1])\n",
    "    res_score['model'] = os.path.basename(f).split('-')[1]\n",
    "    result_orig.append(res_score)\n",
    "    #print(f1)\n",
    "\n",
    "res_df = pd.concat(result_orig)\n",
    "\n",
    "#4 decimal points\n",
    "res_df = res_df.round(4)\n",
    "res_df"
   ]
  },
  {
   "cell_type": "code",
   "execution_count": 24,
   "id": "f6215699-6b28-42ad-ab06-270e8cf4f3b0",
   "metadata": {},
   "outputs": [],
   "source": [
    "#save results in csv\n",
    "res_df.set_index(['model']).drop(['support'], axis=1).to_csv('orig_results.csv')"
   ]
  },
  {
   "cell_type": "code",
   "execution_count": 25,
   "id": "3bde7cfb-8102-4a3a-8dab-9a486140231c",
   "metadata": {},
   "outputs": [],
   "source": [
    "#for latex\n",
    "res1 = pd.read_csv('orig_results.csv')\n",
    "res1 = res1.set_index(['model'])\n",
    "res1.to_latex('orig_results.tex')\n",
    "# res1"
   ]
  },
  {
   "cell_type": "code",
   "execution_count": 102,
   "id": "da963786-9cbf-4b1f-a030-845d1b344fa4",
   "metadata": {},
   "outputs": [
    {
     "data": {
      "text/html": [
       "<div>\n",
       "<style scoped>\n",
       "    .dataframe tbody tr th:only-of-type {\n",
       "        vertical-align: middle;\n",
       "    }\n",
       "\n",
       "    .dataframe tbody tr th {\n",
       "        vertical-align: top;\n",
       "    }\n",
       "\n",
       "    .dataframe thead th {\n",
       "        text-align: right;\n",
       "    }\n",
       "</style>\n",
       "<table border=\"1\" class=\"dataframe\">\n",
       "  <thead>\n",
       "    <tr style=\"text-align: right;\">\n",
       "      <th></th>\n",
       "      <th>Precision</th>\n",
       "      <th>Recall</th>\n",
       "      <th>F1-score</th>\n",
       "    </tr>\n",
       "  </thead>\n",
       "  <tbody>\n",
       "    <tr>\n",
       "      <th>ViT</th>\n",
       "      <td>0.9342</td>\n",
       "      <td>0.9318</td>\n",
       "      <td>0.9323</td>\n",
       "    </tr>\n",
       "    <tr>\n",
       "      <th>AlexNet</th>\n",
       "      <td>0.8842</td>\n",
       "      <td>0.8801</td>\n",
       "      <td>0.8803</td>\n",
       "    </tr>\n",
       "    <tr>\n",
       "      <th>MobileNetV2</th>\n",
       "      <td>0.8479</td>\n",
       "      <td>0.8422</td>\n",
       "      <td>0.8419</td>\n",
       "    </tr>\n",
       "    <tr>\n",
       "      <th>VGG16</th>\n",
       "      <td>0.8409</td>\n",
       "      <td>0.8359</td>\n",
       "      <td>0.8363</td>\n",
       "    </tr>\n",
       "    <tr>\n",
       "      <th>ResNet18</th>\n",
       "      <td>0.8320</td>\n",
       "      <td>0.8308</td>\n",
       "      <td>0.8301</td>\n",
       "    </tr>\n",
       "  </tbody>\n",
       "</table>\n",
       "</div>"
      ],
      "text/plain": [
       "             Precision  Recall  F1-score\n",
       "ViT             0.9342  0.9318    0.9323\n",
       "AlexNet         0.8842  0.8801    0.8803\n",
       "MobileNetV2     0.8479  0.8422    0.8419\n",
       "VGG16           0.8409  0.8359    0.8363\n",
       "ResNet18        0.8320  0.8308    0.8301"
      ]
     },
     "execution_count": 102,
     "metadata": {},
     "output_type": "execute_result"
    }
   ],
   "source": [
    "df_sorted.index = ['ViT', 'AlexNet', 'MobileNetV2', 'VGG16', 'ResNet18']\n",
    "df_sorted.columns = ['Precision', 'Recall', 'F1-score']\n",
    "df_sorted\n"
   ]
  },
  {
   "cell_type": "code",
   "execution_count": 93,
   "id": "a5862dbf-7e3d-4688-a25d-ceeec2822c63",
   "metadata": {},
   "outputs": [
    {
     "name": "stderr",
     "output_type": "stream",
     "text": [
      "/tmp/ipykernel_1466558/163140650.py:34: UserWarning: FigureCanvasAgg is non-interactive, and thus cannot be shown\n",
      "  plt.show()\n"
     ]
    }
   ],
   "source": [
    "plt.rcParams.update({'font.size': 10})\n",
    "plt.rcParams[\"font.family\"] = \"serif\"\n",
    "\n",
    "# Read the CSV file and set the index\n",
    "df = pd.read_csv('orig_results.csv')\n",
    "df = df.set_index('model')\n",
    "\n",
    "# Sort the DataFrame based on the mean of the metrics (or any specific metric)\n",
    "df_sorted = df.sort_values(by=df.columns.tolist(), ascending=False)\n",
    "\n",
    "df_sorted.index = ['ViT', 'AlexNet', 'MobileNetV2', 'VGG16', 'ResNet18']\n",
    "df_sorted.columns = ['Precision', 'Recall', 'F1-score']\n",
    "\n",
    "# Set the backend for matplotlib\n",
    "matplotlib.use('AGG')\n",
    "\n",
    "# Create the bar chart\n",
    "fig, ax = plt.subplots(figsize=(6, 3.5))\n",
    "df_sorted.plot(kind='bar', ax=ax, color=['cornflowerblue', 'dimgrey', 'lightseagreen'])\n",
    "\n",
    "# Set labels and formatting\n",
    "ax.set_xlabel('Models', fontweight='bold')\n",
    "ax.set_ylabel('Score', fontweight='bold')\n",
    "ax.tick_params(axis='x', rotation=0)\n",
    "#ax.set_ylim(0.7, df_sorted.max().max() * 1.05)  # Adjust y-axis limits\n",
    "ax.set_ylim(0.7, 1)  # Adjust y-axis limits\n",
    "\n",
    "# Customize the legend\n",
    "legend = ax.legend(loc='upper center', bbox_to_anchor=(0.5, 1.0), ncol=len(df_sorted.columns), fancybox=True, shadow=True)\n",
    "legend.get_frame().set_linewidth(0)\n",
    "\n",
    "# Adjust layout and show the plot\n",
    "plt.tight_layout()\n",
    "plt.show()\n",
    "plt.savefig('orig-results.pdf')"
   ]
  },
  {
   "cell_type": "code",
   "execution_count": 88,
   "id": "d9172481-a09b-408d-9df6-329867db5bf6",
   "metadata": {},
   "outputs": [
    {
     "name": "stdout",
     "output_type": "stream",
     "text": [
      "/home/user/Desktop/praveen/1_Building-monitering/model-run\n"
     ]
    }
   ],
   "source": [
    "!pwd"
   ]
  },
  {
   "cell_type": "code",
   "execution_count": 54,
   "id": "8d4dc956-f148-41c7-a9aa-9ec20036a519",
   "metadata": {},
   "outputs": [],
   "source": [
    "df_best_orig = pd.read_csv(\"all_model_original/org-ViTpatch16-result.csv\")"
   ]
  },
  {
   "cell_type": "code",
   "execution_count": 55,
   "id": "ea0aba02-5cb0-4168-8880-9a86f644db52",
   "metadata": {},
   "outputs": [],
   "source": [
    "# confusion matrix of best model\n",
    "conf_mat = pd.crosstab(df_best_orig['actual'], df_best_orig['predicted'], rownames=['Actual'], colnames=['Predicted'])\n",
    "\n",
    "# confusion matrix to LaTeX code\n",
    "conf_mat.to_latex('orig_confu.tex')"
   ]
  },
  {
   "cell_type": "code",
   "execution_count": 57,
   "id": "46d90912-4c27-4a21-b199-e38fe6701b7a",
   "metadata": {},
   "outputs": [],
   "source": [
    "# Load the CSV file\n",
    "\n",
    "orig_report_best = classification_report(df_best_orig['actual'], df_best_orig['predicted'], output_dict=True)\n",
    "\n",
    "# class names \n",
    "class_names = list(orig_report_best.keys())\n",
    "class_names.remove('accuracy')\n",
    "class_names.remove('macro avg')\n",
    "class_names.remove('weighted avg')\n",
    "\n",
    "#classification report to LaTeX format\n",
    "report_df = pd.DataFrame(orig_report_best).T\n",
    "report_df.to_latex('orig_best_report.tex', index=True)"
   ]
  },
  {
   "cell_type": "code",
   "execution_count": null,
   "id": "81f365c5-6be7-4fcd-9611-6aa54864e660",
   "metadata": {},
   "outputs": [],
   "source": [
    "conf_mat = confusion_matrix(all_labels, all_preds)"
   ]
  },
  {
   "cell_type": "markdown",
   "id": "f4227213-1b45-4675-934b-b09b865cad24",
   "metadata": {
    "jp-MarkdownHeadingCollapsed": true
   },
   "source": [
    "## Augmented dataset report"
   ]
  },
  {
   "cell_type": "code",
   "execution_count": 3,
   "id": "b78eb824-b4d4-45fe-a3d2-ad192c0626d7",
   "metadata": {},
   "outputs": [
    {
     "data": {
      "text/html": [
       "<div>\n",
       "<style scoped>\n",
       "    .dataframe tbody tr th:only-of-type {\n",
       "        vertical-align: middle;\n",
       "    }\n",
       "\n",
       "    .dataframe tbody tr th {\n",
       "        vertical-align: top;\n",
       "    }\n",
       "\n",
       "    .dataframe thead th {\n",
       "        text-align: right;\n",
       "    }\n",
       "</style>\n",
       "<table border=\"1\" class=\"dataframe\">\n",
       "  <thead>\n",
       "    <tr style=\"text-align: right;\">\n",
       "      <th></th>\n",
       "      <th>precision</th>\n",
       "      <th>recall</th>\n",
       "      <th>f1-score</th>\n",
       "      <th>support</th>\n",
       "      <th>model</th>\n",
       "    </tr>\n",
       "  </thead>\n",
       "  <tbody>\n",
       "    <tr>\n",
       "      <th>0</th>\n",
       "      <td>0.8832</td>\n",
       "      <td>0.8818</td>\n",
       "      <td>0.8817</td>\n",
       "      <td>2800.0</td>\n",
       "      <td>ResNet18</td>\n",
       "    </tr>\n",
       "    <tr>\n",
       "      <th>0</th>\n",
       "      <td>0.9880</td>\n",
       "      <td>0.9879</td>\n",
       "      <td>0.9879</td>\n",
       "      <td>2800.0</td>\n",
       "      <td>ViTpatch16</td>\n",
       "    </tr>\n",
       "    <tr>\n",
       "      <th>0</th>\n",
       "      <td>0.9066</td>\n",
       "      <td>0.9057</td>\n",
       "      <td>0.9056</td>\n",
       "      <td>2800.0</td>\n",
       "      <td>VGG16</td>\n",
       "    </tr>\n",
       "    <tr>\n",
       "      <th>0</th>\n",
       "      <td>0.9399</td>\n",
       "      <td>0.9389</td>\n",
       "      <td>0.9391</td>\n",
       "      <td>2800.0</td>\n",
       "      <td>AlexNet</td>\n",
       "    </tr>\n",
       "    <tr>\n",
       "      <th>0</th>\n",
       "      <td>0.8756</td>\n",
       "      <td>0.8750</td>\n",
       "      <td>0.8746</td>\n",
       "      <td>2800.0</td>\n",
       "      <td>MobileNetV2</td>\n",
       "    </tr>\n",
       "  </tbody>\n",
       "</table>\n",
       "</div>"
      ],
      "text/plain": [
       "   precision  recall  f1-score  support        model\n",
       "0     0.8832  0.8818    0.8817   2800.0     ResNet18\n",
       "0     0.9880  0.9879    0.9879   2800.0   ViTpatch16\n",
       "0     0.9066  0.9057    0.9056   2800.0        VGG16\n",
       "0     0.9399  0.9389    0.9391   2800.0      AlexNet\n",
       "0     0.8756  0.8750    0.8746   2800.0  MobileNetV2"
      ]
     },
     "execution_count": 3,
     "metadata": {},
     "output_type": "execute_result"
    }
   ],
   "source": [
    "result_aug = []\n",
    "for f in files_aug:\n",
    "    #print(f)\n",
    "    df = pd.read_csv(f)\n",
    "    res = classification_report(df.actual, df.predicted, output_dict=True)\n",
    "\n",
    "    f1 = res['weighted avg']\n",
    "    res_score = pd.DataFrame([f1])\n",
    "    res_score['model'] = os.path.basename(f).split('-')[1]\n",
    "    result_aug.append(res_score)\n",
    "    #print(f1)\n",
    "\n",
    "res_df = pd.concat(result_aug)\n",
    "res_df = res_df.round(4)\n",
    "res_df"
   ]
  },
  {
   "cell_type": "code",
   "execution_count": 4,
   "id": "934203c6-09ed-4915-be63-0a9b2386e283",
   "metadata": {},
   "outputs": [],
   "source": [
    "#save results in csv\n",
    "res_df.set_index(['model']).drop(['support'], axis=1).to_csv('aug_results.csv')"
   ]
  },
  {
   "cell_type": "code",
   "execution_count": 69,
   "id": "e1932675-bfde-4cf9-ae38-5de4905c7079",
   "metadata": {},
   "outputs": [],
   "source": [
    "#for latex\n",
    "res1 = pd.read_csv('aug_results.csv')\n",
    "res1 = res1.set_index(['model'])\n",
    "res1.to_latex('aug_results.tex')\n",
    "# res1"
   ]
  },
  {
   "cell_type": "code",
   "execution_count": 70,
   "id": "47315174-d111-4400-88c5-f1d35346c0a8",
   "metadata": {},
   "outputs": [],
   "source": [
    "# Read the CSV file and set the index\n",
    "df = pd.read_csv('aug_results.csv')\n",
    "df = df.set_index('model')\n",
    "\n",
    "# Sort the DataFrame based on the mean of the metrics (or any specific metric)\n",
    "df_sorted = df.sort_values(by=df.columns.tolist(), ascending=False)\n",
    "\n",
    "# Set the backend for matplotlib\n",
    "matplotlib.use('AGG')\n",
    "\n",
    "# Create the bar chart\n",
    "fig, ax = plt.subplots(figsize=(6, 4))\n",
    "df_sorted.plot(kind='bar', ax=ax, color=['cornflowerblue', 'dimgrey', 'lightseagreen'])\n",
    "\n",
    "# Set labels and formatting\n",
    "ax.set_xlabel('Models', fontweight='bold')\n",
    "ax.set_ylabel('Matrices', fontweight='bold')\n",
    "ax.tick_params(axis='x', rotation=0)\n",
    "ax.set_ylim(0.6, df_sorted.max().max() * 1.05)  # Adjust y-axis limits\n",
    "\n",
    "# Customize the legend\n",
    "legend = ax.legend(loc='upper center', bbox_to_anchor=(0.5, 1.0), ncol=len(df_sorted.columns), fancybox=True, shadow=True)\n",
    "legend.get_frame().set_linewidth(0)\n",
    "\n",
    "# Adjust layout and show the plot\n",
    "plt.tight_layout()\n",
    "plt.show()"
   ]
  },
  {
   "cell_type": "code",
   "execution_count": 71,
   "id": "8e489597-9f84-43a4-96f4-6a1ea66bd7cb",
   "metadata": {},
   "outputs": [],
   "source": [
    "plt.savefig('aug_mat_bar.pdf')"
   ]
  },
  {
   "cell_type": "code",
   "execution_count": 14,
   "id": "75c3da50-5dde-4315-b18e-7c1dbdd2810c",
   "metadata": {},
   "outputs": [],
   "source": [
    "df_best_aug = pd.read_csv(\"all_model_augmented/aug-ViTpatch16-result.csv\")"
   ]
  },
  {
   "cell_type": "code",
   "execution_count": 13,
   "id": "f226d9b8-e14f-4049-b862-ed76b36bfa8f",
   "metadata": {},
   "outputs": [],
   "source": [
    "# confusion matrix of best model\n",
    "conf_mat = pd.crosstab(df_best_aug['actual'], df_best_aug['predicted'], rownames=['Actual'], colnames=['Predicted'])\n",
    "\n",
    "# confusion matrix to LaTeX code\n",
    "conf_mat.to_latex('aug_confu.tex')"
   ]
  },
  {
   "cell_type": "code",
   "execution_count": 73,
   "id": "91b659a8-fa40-4714-8a2b-4c41faf0ab89",
   "metadata": {},
   "outputs": [],
   "source": [
    "# #classification report fro best model\n",
    "# aug_report_best = classification_report(df_best_orig['actual'], df_best_orig['predicted'], target_names=class_names)"
   ]
  },
  {
   "cell_type": "code",
   "execution_count": 16,
   "id": "82f09151-b32e-412e-a657-c38c504d2923",
   "metadata": {},
   "outputs": [],
   "source": [
    "# Load the CSV file\n",
    "\n",
    "aug_report_best = classification_report(df_best_aug['actual'], df_best_aug['predicted'], output_dict=True)\n",
    "\n",
    "# class names \n",
    "class_names = list(aug_report_best.keys())\n",
    "class_names.remove('accuracy')\n",
    "class_names.remove('macro avg')\n",
    "class_names.remove('weighted avg')\n",
    "\n",
    "#classification report to LaTeX format\n",
    "report_df = pd.DataFrame(aug_report_best).T\n",
    "report_df.to_latex('aug_best_report.tex', index=True)"
   ]
  },
  {
   "cell_type": "code",
   "execution_count": 74,
   "id": "2f973e11-c0fc-49cb-8ab9-d41433fb9ce7",
   "metadata": {},
   "outputs": [],
   "source": [
    "# Split the classification report\n",
    "report_lines = aug_report_best.split('\\n')\n",
    "#class names from the report lines\n",
    "class_names = []\n",
    "for line in report_lines[1:-3]:\n",
    "    if line.strip():\n",
    "        class_names.append(line.split()[0])\n",
    "        \n",
    "\n",
    "# LaTeX format\n",
    "report_df = pd.DataFrame([line.split() for line in report_lines[1:-3]])\n",
    "report_df.columns = report_df.iloc[0]\n",
    "report_df = report_df[1:]\n",
    "report_df.to_latex('aug_class_report.tex', index=False, header=False)"
   ]
  },
  {
   "cell_type": "markdown",
   "id": "c58598a0-9dec-4764-ba76-53db6efaecb3",
   "metadata": {},
   "source": [
    "## confusion matrix"
   ]
  },
  {
   "cell_type": "code",
   "execution_count": 1,
   "id": "0ecd5cbb-7ffd-4568-a860-8042ce779312",
   "metadata": {},
   "outputs": [],
   "source": [
    "conf_mat = confusion_matrix(all_labels, all_preds)"
   ]
  }
 ],
 "metadata": {
  "kernelspec": {
   "display_name": "Python 3 (ipykernel)",
   "language": "python",
   "name": "python3"
  },
  "language_info": {
   "codemirror_mode": {
    "name": "ipython",
    "version": 3
   },
   "file_extension": ".py",
   "mimetype": "text/x-python",
   "name": "python",
   "nbconvert_exporter": "python",
   "pygments_lexer": "ipython3",
   "version": "3.10.14"
  }
 },
 "nbformat": 4,
 "nbformat_minor": 5
}
